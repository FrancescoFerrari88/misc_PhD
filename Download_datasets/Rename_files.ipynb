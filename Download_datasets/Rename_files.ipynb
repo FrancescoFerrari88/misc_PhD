{
 "cells": [
  {
   "cell_type": "code",
   "execution_count": 2,
   "metadata": {},
   "outputs": [
    {
     "name": "stdout",
     "output_type": "stream",
     "text": [
      "1 SRR files were found in the working directory\n",
      "\n",
      "Proceed to renaming\n",
      "\n",
      "SRR5077675_1.fastq --> ESC_WCE_ChIP-Seq.fastq\n"
     ]
    }
   ],
   "source": [
    "import os\n",
    "import sys\n",
    "\n",
    "# variables\n",
    "extension='fastq'\n",
    "samples_sheet='samples_sheet.txt'\n",
    "\n",
    "# read in sample sheet\n",
    "map_dic=dict()\n",
    "with open(samples_sheet) as mapp:\n",
    "    for line in mapp:\n",
    "        lista=line.strip().split()\n",
    "        map_dic['{}.{}'.format(lista[0],extension)] = '{}.{}'.format(lista[1],extension)\n",
    "\n",
    "# list files in directory\n",
    "directory=os.getcwd()\n",
    "list_dir=os.listdir(directory)\n",
    "list_dir=[i for i in list_dir if i.startswith('SRR')]\n",
    "print('{} SRR files were found in the working directory\\n\\nProceed to renaming\\n'.format(len(list_dir)))\n",
    "\n",
    "# rename\n",
    "for i in list_dir:\n",
    "    if i in map_dic:\n",
    "        os.rename(i, map_dic[i])\n",
    "        print('{} --> {}'.format(i,map_dic[i]))\n",
    "    else:\n",
    "        print('sample {} could not be renamed because missing from samples sheet'.format(i))"
   ]
  }
 ],
 "metadata": {
  "kernelspec": {
   "display_name": " Python 3.6 ipython@maximus (MPI-IE)",
   "language": "",
   "name": "rik_ssh_maximus_python36ipythonmaximusmpiie"
  },
  "language_info": {
   "codemirror_mode": {
    "name": "ipython",
    "version": 3
   },
   "file_extension": ".py",
   "mimetype": "text/x-python",
   "name": "python",
   "nbconvert_exporter": "python",
   "pygments_lexer": "ipython3",
   "version": "3.6.3"
  }
 },
 "nbformat": 4,
 "nbformat_minor": 2
}
